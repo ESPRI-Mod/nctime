{
 "cells": [
  {
   "cell_type": "markdown",
   "metadata": {
    "collapsed": true
   },
   "source": [
    "Checking and fixing CMIP time axis\n",
    "==================================\n",
    "\n",
    "``nctime`` allows to easily diagnose the time dimension of netCDF files to ensure a proper analysis.\n",
    "\n",
    "It includes two tools to:\n",
    " - check time series continuity (i.e., highlight missing/overlapping files),\n",
    " - check time axis squareness (i.e., rebuilt a convention-compliant time axis)."
   ]
  },
  {
   "cell_type": "markdown",
   "metadata": {},
   "source": [
    "Install and configure ``nctime``\n",
    "--------------------------------\n",
    "\n",
    "Through your desired Python environment uses the usual PIP installation procedure:"
   ]
  },
  {
   "cell_type": "code",
   "execution_count": null,
   "metadata": {
    "collapsed": true
   },
   "outputs": [],
   "source": [
    "pip install nctime --upgrade\n",
    "\n",
    "# Check the version\n",
    "nctime -v\n",
    "\n",
    "# Check the help of nctime tools\n",
    "nctime overlap -h\n",
    "nctime axis -h"
   ]
  },
  {
   "cell_type": "markdown",
   "metadata": {},
   "source": [
    "``nctime`` works according to the configuration INI file(s) of the ESGF nodes.\n",
    "\n",
    "By default, those configuration files are read from ``/esg/config/esgcet`` that is the usual configuration directory on ESGF nodes. If you’re checking your data outside of an ESGF node, you have to fetch those project-specific INI files from GitHub using the ``esgfetchini`` command line from the ``esgprep`` library, see [http://esgf.github.io/esgf-prepare/fetchini.html](http://esgf.github.io/esgf-prepare/fetchini.html).\n",
    "\n",
    "You can then submit another directory to read from the configuration files and the project name to consider."
   ]
  },
  {
   "cell_type": "code",
   "execution_count": null,
   "metadata": {},
   "outputs": [],
   "source": [
    "$> nctime {overlap,axis} -i /PATH/TO/CONFIG/ --project cmip6 [...]"
   ]
  },
  {
   "cell_type": "markdown",
   "metadata": {},
   "source": [
    "If not submitted it takes the ``ESGINI_DIR`` environment variable and considers the ``PROJECT_ID`` from the netCDF global attribute of the first file scanned.\n",
    "\n",
    "Detects overlaps or time gaps into your CMIP datasets\n",
    "-----------------------------------------------------"
   ]
  },
  {
   "cell_type": "code",
   "execution_count": null,
   "metadata": {
    "collapsed": true
   },
   "outputs": [],
   "source": [
    "\n",
    "\n",
    "# Increase multiprocessing (default is 4 processes)\n",
    "nctime [SUBCOMMAND] --max-threads 6 \n",
    "\n",
    "# It could be useful to use a logfile\n",
    "LOGDIR=$GENCMIP6_CCCWORKDIR/IGCM_OUT/IPSLCM6/PROD/1pctCO2/CM61-LR-1pctCO2-01/\n",
    "nctile [SUBCOMMAND] -l $LOGDIR"
   ]
  },
  {
   "cell_type": "code",
   "execution_count": null,
   "metadata": {
    "collapsed": true
   },
   "outputs": [],
   "source": [
    "# Set you simulation path (i.e., the directory level including all XIOS output files).\n",
    "SIMULATION=$GENCMIP6_CCCWORKDIR/IGCM_OUT/IPSLCM6/PROD/1pctCO2/CM61-LR-1pctCO2-01/CMIP6/\n",
    "\n",
    "# The directory including both the config.card and run.card\n",
    "CARD_FILES=$GENCMIP6_HOME/IPSLCM6.1.2/modipsl/config/IPSLCM6/CM61-LR-1pctCO2-01/\n",
    "\n",
    "# Check if overlaps exists in your time series\n",
    "nctime overlap $SIMULATION --card $CARD_FILES"
   ]
  },
  {
   "cell_type": "markdown",
   "metadata": {},
   "source": [
    "Rebuilt and check time axis\n",
    "-------------------------"
   ]
  },
  {
   "cell_type": "code",
   "execution_count": null,
   "metadata": {
    "collapsed": true
   },
   "outputs": [],
   "source": [
    "# Set you simulation path (i.e., the directory level including all XIOS output files).\n",
    "SIMULATION=$GENCMIP6_CCCWORKDIR/IGCM_OUT/IPSLCM6/PROD/1pctCO2/CM61-LR-1pctCO2-01/CMIP6/\n",
    "\n",
    "# The directory including both the config.card and run.card\n",
    "CARD_FILES=$GENCMIP6_HOME/IPSLCM6.1.2/modipsl/config/IPSLCM6/CM61-LR-1pctCO2-01/\n",
    "\n",
    "# Check your time axis squareness\n",
    "nctime axis $SIMULATION --card $CARD_FILES\n",
    "\n",
    "# Some decennal data need post-processing as they don't follow the required 10years increment.\n",
    "# To check those file anyway, you need to overwrite frequency increment to set it to 1 year for decennal data.\n",
    "nctime axis $SIMULATION --card $CARD_FILES --set-inc dec=1Y\n",
    "\n",
    "# Exclude \"subhr\" files if they lead to time-consuming processes\n",
    "nctime axis $SIMULATION --card $CARD_FILES --exclude-file \".*subhr.*\"\n",
    "\n",
    "# Some IPSL-CM6.1.3 data could have time boundaries with an instantaneous time axis.\n",
    "# This is a known issue to ignore with:\n",
    "nctime axis $SIMULATION --card $CARD_FILES --ignore-errors 004"
   ]
  },
  {
   "cell_type": "markdown",
   "metadata": {},
   "source": [
    "Close your Python session\n",
    "-----------------------"
   ]
  },
  {
   "cell_type": "code",
   "execution_count": null,
   "metadata": {
    "collapsed": true
   },
   "outputs": [],
   "source": [
    "# Deactivate CMIP6 Python env\n",
    "source deactivate"
   ]
  }
 ],
 "metadata": {
  "kernelspec": {
   "display_name": "Python 2",
   "language": "python",
   "name": "python2"
  },
  "language_info": {
   "codemirror_mode": {
    "name": "ipython",
    "version": 2
   },
   "file_extension": ".py",
   "mimetype": "text/x-python",
   "name": "python",
   "nbconvert_exporter": "python",
   "pygments_lexer": "ipython2",
   "version": "2.7.14"
  }
 },
 "nbformat": 4,
 "nbformat_minor": 2
}
