{
 "cells": [
  {
   "cell_type": "markdown",
   "metadata": {
    "collapsed": true
   },
   "source": [
    "How to for CMIP6\n",
    "================"
   ]
  },
  {
   "cell_type": "code",
   "execution_count": null,
   "metadata": {
    "collapsed": true
   },
   "outputs": [],
   "source": [
    "# Install nctime\n",
    "pip install nctime --upgrade\n",
    "\n",
    "# Set path of ESGF INI files\n",
    "ESGINI_DIR=~/ini\n",
    "\n",
    "# Fetch CMIP6 INI file\n",
    "esgfetchini --project cmip6 --outdir ~/ini"
   ]
  },
  {
   "cell_type": "markdown",
   "metadata": {},
   "source": [
    "Detects overlaps or time gaps into your CMIP6 datasets\n",
    "------------------------------------------------------"
   ]
  },
  {
   "cell_type": "code",
   "execution_count": null,
   "metadata": {},
   "outputs": [],
   "source": [
    "# Try a first scan without any correction\n",
    "# Use multiprocessing for faster processing\n",
    "LOGDIR=~/logs\n",
    "nctime overlap /PATH/TO/ARCHIVE/CMIP6/CMIP/IPSL/IPSL-CM6A-LR/1pctCO2 --max-processes 16 -l $LOGDIR\n",
    "\n",
    "# Resolve all [full only] overlaps\n",
    "nctime overlap /PATH/TO/ARCHIVE/CMIP6/CMIP/IPSL/IPSL-CM6A-LR/1pctCO2 --max-processes 16 -l $LOGDIR --resolve [--full-only]\n",
    "\n",
    "# Check green light with a last scan\n",
    "nctime overlap /PATH/TO/ARCHIVE/CMIP6/CMIP/IPSL/IPSL-CM6A-LR/1pctCO2 --max-processes 16 -l $LOGDIR\n"
   ]
  },
  {
   "cell_type": "markdown",
   "metadata": {},
   "source": [
    "Checking and fixing CMIP6 time axis\n",
    "-----------------------------------"
   ]
  },
  {
   "cell_type": "code",
   "execution_count": null,
   "metadata": {
    "collapsed": true
   },
   "outputs": [],
   "source": [
    "# Try a first scan without any correction\n",
    "# Use multiprocessing for faster processing\n",
    "LOGDIR=~/logs\n",
    "nctime axis /PATH/TO/ARCHIVE/CMIP6/CMIP/IPSL/IPSL-CM6A-LR/1pctCO2 --max-processes 16 -l $LOGDIR\n",
    "\n",
    "# Correct found errors\n",
    "nctime axis /PATH/TO/ARCHIVE/CMIP6/CMIP/IPSL/IPSL-CM6A-LR/1pctCO2 --max-processes 16 -l $LOGDIR --write\n",
    "\n",
    "# Check green light with a last scan\n",
    "nctime axis /PATH/TO/ARCHIVE/CMIP6/CMIP/IPSL/IPSL-CM6A-LR/1pctCO2 --max-processes 16 -l $LOGDIR\n"
   ]
  }
 ],
 "metadata": {
  "kernelspec": {
   "display_name": "Python 2",
   "language": "python",
   "name": "python2"
  },
  "language_info": {
   "codemirror_mode": {
    "name": "ipython",
    "version": 2
   },
   "file_extension": ".py",
   "mimetype": "text/x-python",
   "name": "python",
   "nbconvert_exporter": "python",
   "pygments_lexer": "ipython2",
   "version": "2.7.14"
  }
 },
 "nbformat": 4,
 "nbformat_minor": 2
}
