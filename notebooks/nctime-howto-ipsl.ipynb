{
 "cells": [
  {
   "cell_type": "markdown",
   "metadata": {
    "collapsed": true
   },
   "source": [
    "How To for CMIP6\n",
    "========="
   ]
  },
  {
   "cell_type": "markdown",
   "metadata": {},
   "source": [
    "Setup the environement\n",
    "--------------------"
   ]
  },
  {
   "cell_type": "code",
   "execution_count": null,
   "metadata": {
    "collapsed": true
   },
   "outputs": [],
   "source": [
    "# Switch to GENCMIP6 env\n",
    "module switch dfldatadir dfldatadir/gencmip6\n",
    "\n",
    "# Add CMIP6 Python env to PATH\n",
    "export PATH=$GENCMIP6_ALL_CCCWORKDIR/miniconda/bin:$PATH\n",
    "\n",
    "# Activate the CMIP6 Python env\n",
    "source activate cmip6"
   ]
  },
  {
   "cell_type": "markdown",
   "metadata": {},
   "source": [
    "Generic usage\n",
    "------------"
   ]
  },
  {
   "cell_type": "code",
   "execution_count": null,
   "metadata": {
    "collapsed": true
   },
   "outputs": [],
   "source": [
    "# Check the version\n",
    "nctime -v\n",
    "\n",
    "# Check the help of nctime tools\n",
    "nctime overlap -h # Checks time series continuity\n",
    "nctime axis -h    # Checks time axis squareness\n",
    "\n",
    "# Debug mode with high verbosity\n",
    "nctime [SUBCOMMAND] --debug\n",
    "\n",
    "# Use a logfile\n",
    "nctime [SUBCOMMAND] --log"
   ]
  },
  {
   "cell_type": "markdown",
   "metadata": {},
   "source": [
    "Detects overlaps or time gaps between files\n",
    "----------------------------------------"
   ]
  },
  {
   "cell_type": "markdown",
   "metadata": {},
   "source": []
  },
  {
   "cell_type": "code",
   "execution_count": null,
   "metadata": {
    "collapsed": true
   },
   "outputs": [],
   "source": [
    "# The simulation path can be the directory level including all XiOS output files\n",
    "# nctime will filter discovered files to only analyse the netCDF ones.\n",
    "nctime overlap -i $GENCMIP6_ALL_CCCWORKDIR/ini --project cmip6 /PATH/TO/SIMULATION/"
   ]
  },
  {
   "cell_type": "markdown",
   "metadata": {},
   "source": [
    "Apply the CMIP6 Data Refence Syntax\n",
    "----------------------------------"
   ]
  },
  {
   "cell_type": "code",
   "execution_count": null,
   "metadata": {
    "collapsed": true
   },
   "outputs": [],
   "source": [
    "# Specify the ROOT path for the DRS which don't include the project facet\n",
    "# One or more directory(ies) to recursively scan can be submitted\n",
    "# If you want to copy or hard link original files add \"--copy\" or \"--link\" respectively\n",
    "# To set a particular version number add \"--version YYYYMMDD\"\n",
    "\n",
    "# List the detected publication-level datasets in the incoming directory(ies)\n",
    "esgdrs list -i $PWD/ini/ --project cmip6 /PATH/TO/SCAN/ --root /PATH/TO/DRS/ROOT\n",
    "\n",
    "# Display the expected DRS tree\n",
    "esgprep tree -i $PWD/ini/ --project cmip6 /PATH/TO/SCAN/ --root /PATH/TO/DRS/ROOT\n",
    "\n",
    "# Make a dry run with pending file operations\n",
    "esgprep todo -i $PWD/ini/ --project cmip6 /PATH/TO/SCAN/ --root /PATH/TO/DRS/ROOT\n",
    "\n",
    "# Make the changes to intialize or upgrade dataset versions\n",
    "esgprep upgrade -i $PWD/ini/ --project cmip6 /PATH/TO/SCAN/ --root /PATH/TO/DRS/ROOT"
   ]
  },
  {
   "cell_type": "markdown",
   "metadata": {},
   "source": [
    "Generate CMIP6 mapfiles\n",
    "-----------------------"
   ]
  },
  {
   "cell_type": "code",
   "execution_count": null,
   "metadata": {
    "collapsed": true
   },
   "outputs": [],
   "source": [
    "# Default is to pick up the latest version of each dataset,\n",
    "# you can enforce the version with \"--version YYYYMMDD\" if needed\n",
    "# Default is to generate one mapfile per dataset (recommended)\n",
    "esgmapfile -i $PWD/ini/ --project cmip6 /PATH/TO/CMIP6/ROOT/ --outdir $PWD/mapfiles/"
   ]
  },
  {
   "cell_type": "markdown",
   "metadata": {},
   "source": [
    "Close your Python session\n",
    "-----------------------"
   ]
  },
  {
   "cell_type": "code",
   "execution_count": null,
   "metadata": {
    "collapsed": true
   },
   "outputs": [],
   "source": [
    "# Deactivate CMIP6 Python env\n",
    "source deactivate"
   ]
  }
 ],
 "metadata": {
  "kernelspec": {
   "display_name": "Python 2",
   "language": "python",
   "name": "python2"
  },
  "language_info": {
   "codemirror_mode": {
    "name": "ipython",
    "version": 2
   },
   "file_extension": ".py",
   "mimetype": "text/x-python",
   "name": "python",
   "nbconvert_exporter": "python",
   "pygments_lexer": "ipython2",
   "version": "2.7.14"
  }
 },
 "nbformat": 4,
 "nbformat_minor": 2
}
