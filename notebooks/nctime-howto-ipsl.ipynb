{
 "cells": [
  {
   "cell_type": "markdown",
   "metadata": {
    "collapsed": true
   },
   "source": [
    "How To for CMIP6\n",
    "========="
   ]
  },
  {
   "cell_type": "markdown",
   "metadata": {},
   "source": [
    "Setup the environement\n",
    "--------------------"
   ]
  },
  {
   "cell_type": "code",
   "execution_count": null,
   "metadata": {
    "collapsed": true
   },
   "outputs": [],
   "source": [
    "# Switch to GENCMIP6 env\n",
    "module switch dfldatadir dfldatadir/gencmip6\n",
    "\n",
    "# Add CMIP6 Python env to PATH\n",
    "export PATH=$GENCMIP6_ALL_CCCWORKDIR/miniconda/bin:$PATH\n",
    "\n",
    "# Activate the CMIP6 Python env\n",
    "source activate cmip6"
   ]
  },
  {
   "cell_type": "markdown",
   "metadata": {},
   "source": [
    "Generic usage (FYI)\n",
    "------------------"
   ]
  },
  {
   "cell_type": "code",
   "execution_count": null,
   "metadata": {
    "collapsed": true
   },
   "outputs": [],
   "source": [
    "# Check the version\n",
    "nctime -v\n",
    "\n",
    "# Check the help of nctime tools\n",
    "nctime overlap -h # Checks time series continuity\n",
    "nctime axis -h    # Checks time axis squareness\n",
    "\n",
    "# Debug mode with high verbosity\n",
    "nctime [SUBCOMMAND] --debug\n",
    "\n",
    "# By default nctime only prints errors. To show all results:\n",
    "nctime [SUBCOMMAND] --all\n",
    "\n",
    "# Increase multiprocessing (default is 4 processes)\n",
    "nctime [SUBCOMMAND] --max-threads 6 \n",
    "\n",
    "# It could be useful to use a logfile\n",
    "LOGDIR=$GENCMIP6_CCCWORKDIR/IGCM_OUT/IPSLCM6/PROD/1pctCO2/CM61-LR-1pctCO2-01/\n",
    "nctile [SUBCOMMAND] -l $LOGDIR"
   ]
  },
  {
   "cell_type": "markdown",
   "metadata": {},
   "source": [
    "Detects overlaps or time gaps between files\n",
    "----------------------------------------"
   ]
  },
  {
   "cell_type": "code",
   "execution_count": null,
   "metadata": {
    "collapsed": true
   },
   "outputs": [],
   "source": [
    "# Set you simulation path (i.e., the directory level including all XIOS output files).\n",
    "SIMULATION=$GENCMIP6_CCCWORKDIR/IGCM_OUT/IPSLCM6/PROD/1pctCO2/CM61-LR-1pctCO2-01/CMIP6/\n",
    "\n",
    "# The directory including both the config.card and run.card\n",
    "CARD_FILES=$GENCMIP6_HOME/IPSLCM6.1.2/modipsl/config/IPSLCM6/CM61-LR-1pctCO2-01/\n",
    "\n",
    "# Check if overlaps exists in your time series\n",
    "nctime overlap $SIMULATION --card $CARD_FILES"
   ]
  },
  {
   "cell_type": "markdown",
   "metadata": {},
   "source": [
    "Rebuilt and check time axis\n",
    "-------------------------"
   ]
  },
  {
   "cell_type": "code",
   "execution_count": null,
   "metadata": {
    "collapsed": true
   },
   "outputs": [],
   "source": [
    "# Set you simulation path (i.e., the directory level including all XIOS output files).\n",
    "SIMULATION=$GENCMIP6_CCCWORKDIR/IGCM_OUT/IPSLCM6/PROD/1pctCO2/CM61-LR-1pctCO2-01/CMIP6/\n",
    "\n",
    "# The directory including both the config.card and run.card\n",
    "CARD_FILES=$GENCMIP6_HOME/IPSLCM6.1.2/modipsl/config/IPSLCM6/CM61-LR-1pctCO2-01/\n",
    "\n",
    "# Check your time axis squareness\n",
    "nctime axis $SIMULATION --card $CARD_FILES\n",
    "\n",
    "# Some decennal data need post-processing as they don't follow the required 10years increment.\n",
    "# To check those file anyway, you need to overwrite frequency increment to set it to 1 year for decennal data.\n",
    "nctime axis $SIMULATION --card $CARD_FILES --set-inc dec=1Y\n",
    "\n",
    "# Exclude \"subhr\" files if they lead to time-consuming processes\n",
    "nctime axis $SIMULATION --card $CARD_FILES --exclude-file \".*subhr.*\"\n",
    "\n",
    "# Some IPSL-CM6.1.3 data could have time boundaries with an instantaneous time axis.\n",
    "# This is a known issue to ignore with:\n",
    "nctime axis $SIMULATION --card $CARD_FILES --ignore-errors 004"
   ]
  },
  {
   "cell_type": "markdown",
   "metadata": {},
   "source": [
    "Close your Python session\n",
    "-----------------------"
   ]
  },
  {
   "cell_type": "code",
   "execution_count": null,
   "metadata": {
    "collapsed": true
   },
   "outputs": [],
   "source": [
    "# Deactivate CMIP6 Python env\n",
    "source deactivate"
   ]
  }
 ],
 "metadata": {
  "kernelspec": {
   "display_name": "Python 2",
   "language": "python",
   "name": "python2"
  },
  "language_info": {
   "codemirror_mode": {
    "name": "ipython",
    "version": 2
   },
   "file_extension": ".py",
   "mimetype": "text/x-python",
   "name": "python",
   "nbconvert_exporter": "python",
   "pygments_lexer": "ipython2",
   "version": "2.7.14"
  }
 },
 "nbformat": 4,
 "nbformat_minor": 2
}
