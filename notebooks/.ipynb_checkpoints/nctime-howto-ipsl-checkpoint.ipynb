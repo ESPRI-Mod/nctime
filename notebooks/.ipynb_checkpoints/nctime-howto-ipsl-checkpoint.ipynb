{
 "cells": [
  {
   "cell_type": "markdown",
   "metadata": {
    "collapsed": true
   },
   "source": [
    "How To for CMIP6\n",
    "========="
   ]
  },
  {
   "cell_type": "markdown",
   "metadata": {},
   "source": [
    "Generic usage\n",
    "------------"
   ]
  },
  {
   "cell_type": "code",
   "execution_count": null,
   "metadata": {
    "collapsed": true
   },
   "outputs": [],
   "source": [
    "# Check the version\n",
    "nctime -v\n",
    "\n",
    "# Check the help of nctime tools\n",
    "esgcheckvocab -h # Check consistency between your DRS tree and the CV declared in the INI files\n",
    "esgfetchini -h   # Fetch the esg.<project>.ini files you need\n",
    "esgdrs -h        # Manage your data into the project DRS and versioning\n",
    "esgmapfile -h    # Generates the mapfiles for publication process\n",
    "\n",
    "\n",
    "# Debug mode with high verbosity\n",
    "[ESGPREP_TOOL] --debug\n",
    "\n",
    "# Use a logfile\n",
    "[ESGPREP_TOOL] --log"
   ]
  },
  {
   "cell_type": "markdown",
   "metadata": {},
   "source": [
    "Retrieve the official `esg.cmip6.ini`\n",
    "-----------------------------------"
   ]
  },
  {
   "cell_type": "code",
   "execution_count": null,
   "metadata": {
    "collapsed": true
   },
   "outputs": [],
   "source": [
    "# Specify the destination folder of INI files (default is /esg/config/esgcet/)\n",
    "esgfetchini --project cmip6 -i $PWD/ini/ -o"
   ]
  },
  {
   "cell_type": "markdown",
   "metadata": {},
   "source": [
    "Apply the CMIP6 Data Refence Syntax\n",
    "----------------------------------"
   ]
  },
  {
   "cell_type": "code",
   "execution_count": null,
   "metadata": {
    "collapsed": true
   },
   "outputs": [],
   "source": [
    "# Specify the ROOT path for the DRS which don't include the project facet\n",
    "# One or more directory(ies) to recursively scan can be submitted\n",
    "# If you want to copy or hard link original files add \"--copy\" or \"--link\" respectively\n",
    "# To set a particular version number add \"--version YYYYMMDD\"\n",
    "\n",
    "# List the detected publication-level datasets in the incoming directory(ies)\n",
    "esgdrs list -i $PWD/ini/ --project cmip6 /PATH/TO/SCAN/ --root /PATH/TO/DRS/ROOT\n",
    "\n",
    "# Display the expected DRS tree\n",
    "esgprep tree -i $PWD/ini/ --project cmip6 /PATH/TO/SCAN/ --root /PATH/TO/DRS/ROOT\n",
    "\n",
    "# Make a dry run with pending file operations\n",
    "esgprep todo -i $PWD/ini/ --project cmip6 /PATH/TO/SCAN/ --root /PATH/TO/DRS/ROOT\n",
    "\n",
    "# Make the changes to intialize or upgrade dataset versions\n",
    "esgprep upgrade -i $PWD/ini/ --project cmip6 /PATH/TO/SCAN/ --root /PATH/TO/DRS/ROOT"
   ]
  },
  {
   "cell_type": "markdown",
   "metadata": {},
   "source": [
    "Generate CMIP6 mapfiles\n",
    "-----------------------"
   ]
  },
  {
   "cell_type": "code",
   "execution_count": null,
   "metadata": {
    "collapsed": true
   },
   "outputs": [],
   "source": [
    "# Default is to pick up the latest version of each dataset,\n",
    "# you can enforce the version with \"--version YYYYMMDD\" if needed\n",
    "# Default is to generate one mapfile per dataset (recommended)\n",
    "esgmapfile -i $PWD/ini/ --project cmip6 /PATH/TO/CMIP6/ROOT/ --outdir $PWD/mapfiles/"
   ]
  }
 ],
 "metadata": {
  "kernelspec": {
   "display_name": "Python 2",
   "language": "python",
   "name": "python2"
  },
  "language_info": {
   "codemirror_mode": {
    "name": "ipython",
    "version": 2
   },
   "file_extension": ".py",
   "mimetype": "text/x-python",
   "name": "python",
   "nbconvert_exporter": "python",
   "pygments_lexer": "ipython2",
   "version": "2.7.14"
  }
 },
 "nbformat": 4,
 "nbformat_minor": 2
}
